{
 "cells": [
  {
   "cell_type": "markdown",
   "metadata": {},
   "source": [
    "# Convert Notebook to webpage."
   ]
  },
  {
   "cell_type": "code",
   "execution_count": null,
   "metadata": {},
   "outputs": [],
   "source": [
    "!nbinteract GiftPlanning.ipynb; \n",
    "!mv GiftPlanning.html v2.html\n",
    "\n",
    "# with open(\"index.html\",\"r\") as f:\n",
    "#     lines = f.readlines()\n",
    "#     f.close()\n",
    "\n",
    "# with open(\"index.html\",\"w\") as f:\n",
    "#     f.write(\"<style>\\n\")\n",
    "#     f.write(\".container{\\n\")\n",
    "#     f.write(\"     max-width: 750px;\\n\")\n",
    "#     f.write(\"}\\n\")\n",
    "#     f.write(\"</style>\\n\")\n",
    "#     flag = 0\n",
    "#     for line in lines:\n",
    "#         if line==\"<!-- Load mathjax -->\"+\"\\n\":\n",
    "#             print('found trigger')\n",
    "#             flag = 1\n",
    "#         if flag:\n",
    "#             f.write(line)\n",
    "#     f.close()\n",
    "# print('Done!')"
   ]
  },
  {
   "cell_type": "code",
   "execution_count": null,
   "metadata": {},
   "outputs": [],
   "source": []
  }
 ],
 "metadata": {
  "kernelspec": {
   "display_name": "Python 3",
   "language": "python",
   "name": "python3"
  },
  "language_info": {
   "codemirror_mode": {
    "name": "ipython",
    "version": 3
   },
   "file_extension": ".py",
   "mimetype": "text/x-python",
   "name": "python",
   "nbconvert_exporter": "python",
   "pygments_lexer": "ipython3",
   "version": "3.6.3"
  }
 },
 "nbformat": 4,
 "nbformat_minor": 2
}
