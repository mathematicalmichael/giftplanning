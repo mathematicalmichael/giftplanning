{
 "cells": [
  {
   "cell_type": "markdown",
   "metadata": {},
   "source": [
    "# Convert Notebook to webpage."
   ]
  },
  {
   "cell_type": "code",
   "execution_count": 1,
   "metadata": {},
   "outputs": [
    {
     "name": "stdout",
     "output_type": "stream",
     "text": [
      "\u001b[91m[nbinteract] \u001b[0m--spec flag not set and no .nbinteract.json file found. Rerun this\n",
      "\u001b[91m[nbinteract] \u001b[0m  command with the --spec flag or run `nbinteract init` to resolve\n",
      "\u001b[91m[nbinteract] \u001b[0m  this issue.\n",
      "Usage:\n",
      "  nbinteract init\n",
      "  nbinteract NOTEBOOKS ...\n",
      "  nbinteract [options] NOTEBOOKS ...\n",
      "  nbinteract (-h | --help)\n",
      "mv: rename GiftPlanning.html to index.html: No such file or directory\n"
     ]
    }
   ],
   "source": [
    "!nbinteract GiftPlanning.ipynb; \n",
    "!mv GiftPlanning.html index.html\n",
    "\n",
    "# with open(\"index.html\",\"r\") as f:\n",
    "#     lines = f.readlines()\n",
    "#     f.close()\n",
    "\n",
    "# with open(\"index.html\",\"w\") as f:\n",
    "#     f.write(\"<style>\\n\")\n",
    "#     f.write(\".container{\\n\")\n",
    "#     f.write(\"     max-width: 750px;\\n\")\n",
    "#     f.write(\"}\\n\")\n",
    "#     f.write(\"</style>\\n\")\n",
    "#     flag = 0\n",
    "#     for line in lines:\n",
    "#         if line==\"<!-- Load mathjax -->\"+\"\\n\":\n",
    "#             print('found trigger')\n",
    "#             flag = 1\n",
    "#         if flag:\n",
    "#             f.write(line)\n",
    "#     f.close()\n",
    "# print('Done!')"
   ]
  },
  {
   "cell_type": "code",
   "execution_count": 4,
   "metadata": {},
   "outputs": [
    {
     "name": "stdout",
     "output_type": "stream",
     "text": [
      "\u001b[K\n",
      "                   | EN   \n",
      "+------------------+-----+\n",
      "  Pages            | 472  \n",
      "  Paginator pages  | 193  \n",
      "  Non-page files   | 375  \n",
      "  Static files     |  50  \n",
      "  Processed images |   0  \n",
      "  Aliases          |  35  \n",
      "  Sitemaps         |   1  \n",
      "  Cleaned          |   0  \n",
      "\n",
      "Total in 1664 ms\n",
      "On branch master\n",
      "Changes not staged for commit:\n",
      "  (use \"git add <file>...\" to update what will be committed)\n",
      "  (use \"git checkout -- <file>...\" to discard changes in working directory)\n",
      "\n",
      "\t\u001b[31mmodified:   index.xml\u001b[m\n",
      "\t\u001b[31mmodified:   project/regular/index.html\u001b[m\n",
      "\t\u001b[31mmodified:   search.json\u001b[m\n",
      "\n",
      "no changes added to commit (use \"git add\" and/or \"git commit -a\")\n",
      "[master 8a639b8ec] auto: converted notebook to webpage from another notebook.\n",
      " 3 files changed, 5 insertions(+), 993 deletions(-)\n",
      " rewrite search.json (87%)\n",
      "Counting objects: 7, done.\n",
      "Delta compression using up to 8 threads.\n",
      "Compressing objects: 100% (6/6), done.\n",
      "Writing objects: 100% (7/7), 669 bytes | 669.00 KiB/s, done.\n",
      "Total 7 (delta 5), reused 0 (delta 0)\n",
      "remote: Resolving deltas: 100% (5/5), completed with 5 local objects.\u001b[K\n",
      "To https://github.com/mpilosov/mm.git\n",
      "   e6731e933..8a639b8ec  master -> master\n",
      "On branch master\n",
      "Your branch is up to date with 'origin/master'.\n",
      "\n",
      "Changes not staged for commit:\n",
      "  (use \"git add <file>...\" to update what will be committed)\n",
      "  (use \"git checkout -- <file>...\" to discard changes in working directory)\n",
      "\n",
      "\t\u001b[31mmodified:   layouts/shortcodes/regular.html\u001b[m\n",
      "\n",
      "no changes added to commit (use \"git add\" and/or \"git commit -a\")\n",
      "[master f956231] auto: converted notebook to webpage from another notebook.\n",
      " 1 file changed, 2 insertions(+), 496 deletions(-)\n",
      "Counting objects: 5, done.\n",
      "Delta compression using up to 8 threads.\n",
      "Compressing objects: 100% (5/5), done.\n",
      "Writing objects: 100% (5/5), 480 bytes | 480.00 KiB/s, done.\n",
      "Total 5 (delta 3), reused 0 (delta 0)\n",
      "remote: Resolving deltas: 100% (3/3), completed with 3 local objects.\u001b[K\n",
      "To https://github.com/mpilosov/mathematicalmichael.git\n",
      "   aa00c61..f956231  master -> master\n",
      " \n",
      "    pushed files at Wed Dec  5 12:42:29 MST 2018\n"
     ]
    }
   ],
   "source": [
    "!git commit -am 'converted notebook to webpage from another notebook.'; git push origin master"
   ]
  },
  {
   "cell_type": "code",
   "execution_count": null,
   "metadata": {},
   "outputs": [],
   "source": []
  }
 ],
 "metadata": {
  "kernelspec": {
   "display_name": "Python 3",
   "language": "python",
   "name": "python3"
  },
  "language_info": {
   "codemirror_mode": {
    "name": "ipython",
    "version": 3
   },
   "file_extension": ".py",
   "mimetype": "text/x-python",
   "name": "python",
   "nbconvert_exporter": "python",
   "pygments_lexer": "ipython3",
   "version": "3.6.3"
  }
 },
 "nbformat": 4,
 "nbformat_minor": 2
}
