{
 "cells": [
  {
   "cell_type": "code",
   "execution_count": 1,
   "metadata": {},
   "outputs": [],
   "source": [
    "# HIDDEN\n",
    "from plotting_utils import *\n",
    "import cbayes.distributions\n",
    "import ipywidgets as wd\n",
    "import numpy as np\n",
    "from matplotlib import pyplot as plt\n",
    "import cbayes.sample\n",
    "from IPython.display import clear_output, display"
   ]
  },
  {
   "cell_type": "code",
   "execution_count": 2,
   "metadata": {},
   "outputs": [],
   "source": [
    "# HIDDEN\n",
    "plt.rcParams['figure.figsize'] = 20,10\n",
    "plt.rcParams['font.size'] = 32\n",
    "# plt.style.use('dark_background')\n",
    "plt.rcParams['lines.linewidth'] = 5\n",
    "plt.rcParams['font.family'] = 'Georgia'\n",
    "dirname, fname = 'prop', 'social'"
   ]
  },
  {
   "cell_type": "code",
   "execution_count": 3,
   "metadata": {},
   "outputs": [],
   "source": [
    "# HIDDEN\n",
    "def gifts(amount=10000,\n",
    "            confidence=0.5,\n",
    "            **kwds):\n",
    "    return amount*confidence\n",
    "\n",
    "def total(UNIT_DICT, func):\n",
    "    # sum costs over all strains\n",
    "    return np.sum([func(**UNIT_DICT[k]) for k in UNIT_DICT.keys()], axis=0)\n",
    "\n",
    "def show_gifts(TAB, max_percentile):\n",
    "    U_new = extract(TAB)\n",
    "    S = cbayes.sample.generate_sample_set_from_dict(U_new, int(N)) \n",
    "    V = cbayes.sample.generate_sample_dict(S)\n",
    "    output = total(V,gifts) # proportion of day\n",
    "    plot_results(output, \n",
    "                    max_percentile = max_percentile,\n",
    "                    show_range = False,\n",
    "                    scaling_x = 1E3,\n",
    "                    bins  = 1000,\n",
    "                    save=False)\n",
    "    return "
   ]
  },
  {
   "cell_type": "code",
   "execution_count": 4,
   "metadata": {},
   "outputs": [],
   "source": [
    "# HIDDEN\n",
    "\n",
    "N = int(1E4) \n",
    "\n",
    "D = {'donor_1': {'amount': {'dist': 'beta',\n",
    "   'kwds': {'loc': 10000.0, 'scale': 40000.0, 'a': 1.0, 'b': 1.0}},\n",
    "  'confidence': {'dist': 'beta',\n",
    "   'kwds': {'loc': 0.0, 'scale': 1.0, 'a': 3.0, 'b': 3.0}}},\n",
    " 'donor_2': {'amount': {'dist': 'beta',\n",
    "   'kwds': {'loc': 10000.0, 'scale': 40000.0, 'a': 1.5, 'b': 3.0}},\n",
    "  'confidence': {'dist': 'beta',\n",
    "   'kwds': {'loc': 0.0, 'scale': 1.0, 'a': 6.0, 'b': 3.0}}},\n",
    " 'donor_3': {'amount': {'dist': 'beta',\n",
    "   'kwds': {'loc': 10000.0, 'scale': 2500000.0, 'a': 1.7, 'b': 4.3}},\n",
    "  'confidence': {'dist': 'beta',\n",
    "   'kwds': {'loc': 0.0, 'scale': 1.0, 'a': 3.0, 'b': 6.0}}}}\n",
    "\n",
    "d = ['donor 1', 'donor 2', 'donor 3']\n",
    "p = ['amount', 'confidence']\n",
    "# A = paramdict(d,p)\n",
    "TAB = assumptions(D, preview=True)"
   ]
  },
  {
   "cell_type": "markdown",
   "metadata": {},
   "source": [
    "# Office of Advancement x Mind the Math\n",
    "![logo](logo.png)"
   ]
  },
  {
   "cell_type": "markdown",
   "metadata": {},
   "source": [
    "# The \"Story\"\n",
    "\n",
    "We have three donors under consideration, with different levels of _risk_ and _reward_. How these values are determined are at present, not considered. Many models that leverage data can be used to improve the descriptions of uncertainty for these two variables.\n",
    "\n",
    "In our model, we assign the (temporary) names `amount` and `confidence` to address the respective reward and associated risk, respectively. \n",
    "- `amount` is the _dollar amount of a gift at realization_. \n",
    "    - Financial models, life expectancy tables, and initial investment amount can be used to determine this.\n",
    "- `confidence` is an assessment of how likely (probability between 0 and 1) the gift is to be realized.\n",
    "    - This can be based on the best intuition of the people with whom a donor is in contact, or predictive analytics that use available datasets. \n",
    "\n",
    "## Our Donor List\n",
    "- **Donor 1**: _The wildcard._ Very little information known about them. We assign a 50/50 chance of realization, only a lower/upper bound is communicated to the Office.\n",
    "- **Donor 2**: _The dependable alumna._ Considerable donation with small potential for good growth, quite likely to realize gift. Same range as first donor, but more confidence in the amount to be realized due to short life expectancy. \n",
    "- **Donor 3**: _The hopeful._ Emotionally driven individual with an aggressively invested fund and long time-period. Potential for sizable donation but considerable chance of the gift being revoked.\n",
    "\n",
    "#### Please Consider\n",
    "This interface is re-purposed from other projects owned by Mind the Math. It is solely for purposes of demonstration. \n",
    "One immediate change will be that donors are shown in a list instead of tabulated at top. Sliders for confidence should probably be replaced/ammended with a number of preset buttons for ease-of-use. \n",
    "This interface is live and interactive (though running on limited computational resources), so feel free to experiment and change the \"stories\" of each of our donors, and please pardon any lag you may experience. "
   ]
  },
  {
   "cell_type": "code",
   "execution_count": 5,
   "metadata": {},
   "outputs": [
    {
     "data": {
      "application/vnd.jupyter.widget-view+json": {
       "model_id": "a214fdc43c7446b583af9d81bdb29872",
       "version_major": 2,
       "version_minor": 0
      },
      "text/plain": [
       "Tab(children=(Tab(children=(VBox(children=(Label(value='amount'), FloatText(value=10000.0, description='loc'),…"
      ]
     },
     "metadata": {},
     "output_type": "display_data"
    }
   ],
   "source": [
    "# HIDDEN\n",
    "TAB"
   ]
  },
  {
   "cell_type": "code",
   "execution_count": 11,
   "metadata": {},
   "outputs": [
    {
     "data": {
      "application/vnd.jupyter.widget-view+json": {
       "model_id": "f8bcc8f7d4c54dfa88c721da084480bf",
       "version_major": 2,
       "version_minor": 0
      },
      "text/plain": [
       "interactive(children=(IntSlider(value=95, continuous_update=False, description='max_percentile', min=50), Butt…"
      ]
     },
     "metadata": {},
     "output_type": "display_data"
    },
    {
     "data": {
      "text/plain": [
       "<function __main__.show_gifts>"
      ]
     },
     "execution_count": 11,
     "metadata": {},
     "output_type": "execute_result"
    }
   ],
   "source": [
    "# HIDDEN\n",
    "wd.interact_manual(show_gifts, TAB=wd.fixed(TAB), max_percentile = wd.IntSlider(value=95, min=50, max=100, continuous_update=False))"
   ]
  },
  {
   "cell_type": "code",
   "execution_count": null,
   "metadata": {},
   "outputs": [],
   "source": []
  }
 ],
 "metadata": {
  "kernelspec": {
   "display_name": "Python 3",
   "language": "python",
   "name": "python3"
  },
  "language_info": {
   "codemirror_mode": {
    "name": "ipython",
    "version": 3
   },
   "file_extension": ".py",
   "mimetype": "text/x-python",
   "name": "python",
   "nbconvert_exporter": "python",
   "pygments_lexer": "ipython3",
   "version": "3.6.3"
  }
 },
 "nbformat": 4,
 "nbformat_minor": 2
}
